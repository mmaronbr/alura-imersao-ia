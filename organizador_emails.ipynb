{
  "nbformat": 4,
  "nbformat_minor": 0,
  "metadata": {
    "colab": {
      "provenance": [],
      "toc_visible": true,
      "authorship_tag": "ABX9TyO9rKoKnUBh5ifosjpAMJAl",
      "include_colab_link": true
    },
    "kernelspec": {
      "name": "python3",
      "display_name": "Python 3"
    },
    "language_info": {
      "name": "python"
    }
  },
  "cells": [
    {
      "cell_type": "markdown",
      "metadata": {
        "id": "view-in-github",
        "colab_type": "text"
      },
      "source": [
        "<a href=\"https://colab.research.google.com/github/mmaronbr/alura-imersao-ia/blob/main/organizador_emails.ipynb\" target=\"_parent\"><img src=\"https://colab.research.google.com/assets/colab-badge.svg\" alt=\"Open In Colab\"/></a>"
      ]
    },
    {
      "cell_type": "markdown",
      "source": [
        "# Dependências da Aplicação"
      ],
      "metadata": {
        "id": "arvR_2ZROLin"
      }
    },
    {
      "cell_type": "markdown",
      "source": [
        "Dependências da Generative AI"
      ],
      "metadata": {
        "id": "KrONpyxRiBUC"
      }
    },
    {
      "cell_type": "code",
      "execution_count": null,
      "metadata": {
        "id": "cDJlBqRzNa5a"
      },
      "outputs": [],
      "source": [
        "!pip install -U -q google.generativeai"
      ]
    },
    {
      "cell_type": "markdown",
      "source": [
        "Dependências do Gmail"
      ],
      "metadata": {
        "id": "5H7Yk-VWiORI"
      }
    },
    {
      "cell_type": "code",
      "source": [
        "!pip install -U -q google-api-python-client google-auth-httplib2 google-auth-oauthlib\n",
        "!pip install -U -q pyngrok"
      ],
      "metadata": {
        "id": "5Z__W3u8iQVf"
      },
      "execution_count": null,
      "outputs": []
    },
    {
      "cell_type": "markdown",
      "source": [
        "# Importação das Bibliotecas"
      ],
      "metadata": {
        "id": "XoTIW3DWibn7"
      }
    },
    {
      "cell_type": "markdown",
      "source": [
        "Bibliotecas de uso comum"
      ],
      "metadata": {
        "id": "cX-6KeYWEFTy"
      }
    },
    {
      "cell_type": "code",
      "source": [
        "from google.colab import userdata"
      ],
      "metadata": {
        "id": "EIcmBedKEFmI"
      },
      "execution_count": null,
      "outputs": []
    },
    {
      "cell_type": "markdown",
      "source": [
        "Bibliotecas utilizadas para acesso à API da Generative AI"
      ],
      "metadata": {
        "id": "7PGcbaX3iwkG"
      }
    },
    {
      "cell_type": "code",
      "source": [
        "import google.generativeai as genai"
      ],
      "metadata": {
        "id": "T0cytgSei2Ip"
      },
      "execution_count": null,
      "outputs": []
    },
    {
      "cell_type": "markdown",
      "source": [
        "Bibliotecas utilizadas para acesso ao Gmail"
      ],
      "metadata": {
        "id": "SK-QPY5diqXF"
      }
    },
    {
      "cell_type": "code",
      "source": [
        "import os.path\n",
        "import pickle\n",
        "import requests\n",
        "\n",
        "from google.auth.transport.requests import Request\n",
        "from google.oauth2.credentials import Credentials\n",
        "from google_auth_oauthlib.flow import InstalledAppFlow\n",
        "from googleapiclient.discovery import build\n",
        "from googleapiclient.errors import HttpError\n",
        "\n",
        "from pyngrok import ngrok"
      ],
      "metadata": {
        "id": "Ta6wifV1iff6"
      },
      "execution_count": null,
      "outputs": []
    },
    {
      "cell_type": "markdown",
      "source": [
        "# Configurações"
      ],
      "metadata": {
        "id": "uKx_dzIwjQh5"
      }
    },
    {
      "cell_type": "markdown",
      "source": [
        "## Generative AI"
      ],
      "metadata": {
        "id": "_mwiu80iwc_0"
      }
    },
    {
      "cell_type": "markdown",
      "source": [
        "Definição da Chave da API da Generative AI\n",
        "\n",
        "**IMPORTANTE!** Cadastre a secret `GOOGLE_API_KEY` na Seção de Secrets do Colab."
      ],
      "metadata": {
        "id": "5XBdsaFej-uS"
      }
    },
    {
      "cell_type": "code",
      "source": [
        "GOOGLE_API_KEY=userdata.get('GOOGLE_API_KEY')\n",
        "genai.configure(api_key=GOOGLE_API_KEY)"
      ],
      "metadata": {
        "id": "y6ud9uG7jT-E"
      },
      "execution_count": null,
      "outputs": []
    },
    {
      "cell_type": "markdown",
      "source": [
        "## Gmail"
      ],
      "metadata": {
        "id": "N0HLU1IewiHr"
      }
    },
    {
      "cell_type": "markdown",
      "source": [
        "Configurações para acesso ao Gmail\n",
        "\n",
        "**IMPORTANTE!** Cadastre as secrets: `CLIENT_ID`, `CLIENT_SECRET`,  `PROJECT_ID` e `NGROK_AUTHTOKEN` na Seção de Secrets do Colab.\n",
        "\n",
        "Para obter o `CLIENT_ID`, `CLIENT_SECRET` e `PROJECT_ID` siga as orientações em: [Google Developers - Guia de Criação de Cliente OAuth](https://developers.google.com/workspace/guides/create-credentials?hl=pt-br#oauth-client-id)\n",
        "\n",
        "Para o `NGROK_AUTHTOKEN`, registre-se em: [https://ngrok.com/](https://ngrok.com/)\n",
        "\n"
      ],
      "metadata": {
        "id": "rqigbgLSmWvJ"
      }
    },
    {
      "cell_type": "markdown",
      "source": [
        "Definição das constantes de autenticação/autorização"
      ],
      "metadata": {
        "id": "-5S62uDLyVMv"
      }
    },
    {
      "cell_type": "code",
      "source": [
        "SCOPES = [\"https://www.googleapis.com/auth/gmail.readonly\"]\n",
        "\n",
        "CLIENT_ID = userdata.get('CLIENT_ID')\n",
        "CLIENT_SECRET = userdata.get('CLIENT_SECRET')\n",
        "PROJECT_ID = userdata.get('PROJECT_ID')\n",
        "NGROK_AUTHTOKEN = userdata.get('NGROK_AUTHTOKEN')\n",
        "\n",
        "# Arquivo que armazena as configurações de acesso via OAuth2.0\n",
        "CREDENTIALS_FILE = 'credentials.json'\n",
        "# Arquivo que armazenará o token de acesso aos serviços da Google\n",
        "TOKEN_PICKLE_FILE = 'token.pickle'\n",
        "# Arquivo que armazena as configurações ngrok\n",
        "NGROK_FILE = 'ngrok.yml'\n",
        "\n",
        "# Configurações do Servidor Flow\n",
        "PORT = 9999"
      ],
      "metadata": {
        "id": "6yVt7CGHmdnm"
      },
      "execution_count": null,
      "outputs": []
    },
    {
      "cell_type": "markdown",
      "source": [
        "Criação do arquivo de configuração do ngrok"
      ],
      "metadata": {
        "id": "qoD-HVvEJP1I"
      }
    },
    {
      "cell_type": "code",
      "source": [
        "NGROK_TMP =f'''authtoken: {NGROK_AUTHTOKEN}\n",
        "version: 2\n",
        "\n",
        "tunnels:\n",
        "  oauth_tunnel:\n",
        "    proto: http\n",
        "    addr: {PORT}\n",
        "'''\n",
        "# Cria o arquivo de Configurção do ngrok\n",
        "with open(NGROK_FILE, \"w\") as n_file:\n",
        "  n_file.write(NGROK_TMP)"
      ],
      "metadata": {
        "id": "XC0C06b8JVG7"
      },
      "execution_count": null,
      "outputs": []
    },
    {
      "cell_type": "markdown",
      "source": [
        "Inicia o serviço ngrok em background\n",
        "\n",
        "Para consultar os endpoints ativos, consulte: [Dashboard do Ngrok](https://dashboard.ngrok.com/cloud-edge/endpoints)"
      ],
      "metadata": {
        "id": "JFGHi80i0-zj"
      }
    },
    {
      "cell_type": "code",
      "source": [
        "#!nohup ngrok --config ngrok.yml start oauth_tunnel > nohup.out 2>&1 &\n",
        "!nohup ngrok --config ngrok.yml > nohup.out 2>&1 &"
      ],
      "metadata": {
        "id": "6LEcXZI-0_WL"
      },
      "execution_count": null,
      "outputs": []
    },
    {
      "cell_type": "markdown",
      "source": [
        "Obtém o endereço público para comunicação com o Google"
      ],
      "metadata": {
        "id": "utQwaa0ryIUq"
      }
    },
    {
      "cell_type": "code",
      "source": [
        "ngrok.set_auth_token(NGROK_AUTHTOKEN)\n",
        "\n",
        "public_url = ngrok.connect(PORT)\n",
        "print(f\"URL Público: {public_url.public_url}\")\n",
        "print(\"\\nATENÇÃO! Cadastre o novo domínio do ngrok como um domínio válido para sua aplicação.\\n\")\n",
        "print(\"Acesse: https://console.cloud.google.com/apis/credentials/consent\")\n",
        "\n",
        "configured = \"não\"\n",
        "\n",
        "while configured.lower() != \"sim\":\n",
        "  configured = input(\"Adicionou o endereço no ngrok como domínio autorizado?  \")"
      ],
      "metadata": {
        "id": "ttsBn9l41N_a"
      },
      "execution_count": null,
      "outputs": []
    },
    {
      "cell_type": "code",
      "source": [
        "JSON_TMP = f'''{{\n",
        "    \"installed\": {{\n",
        "      \"client_id\": \"{CLIENT_ID}\",\n",
        "      \"project_id\": \"{PROJECT_ID}\",\n",
        "      \"auth_uri\": \"https://accounts.google.com/o/oauth2/auth\",\n",
        "      \"token_uri\": \"https://oauth2.googleapis.com/token\",\n",
        "      \"auth_provider_x509_cert_url\": \"https://www.googleapis.com/oauth2/v1/certs\",\n",
        "      \"client_secret\": \"{CLIENT_SECRET}\",\n",
        "      \"redirect_uris\": [\"{public_url.public_url}\"]\n",
        "    }}\n",
        "  }}'''\n",
        "\n",
        "\n",
        "# Cria o arquivo de Credenciais do Google\n",
        "with open(CREDENTIALS_FILE, \"w\") as cred_file:\n",
        "  cred_file.write(JSON_TMP)\n"
      ],
      "metadata": {
        "id": "01tHTxPhxiaF"
      },
      "execution_count": null,
      "outputs": []
    },
    {
      "cell_type": "markdown",
      "source": [
        "# Definição das Funções"
      ],
      "metadata": {
        "id": "KAqKuOhAyHYt"
      }
    },
    {
      "cell_type": "code",
      "source": [
        "def authenticate():\n",
        "    creds = None\n",
        "\n",
        "    # Recupera o token existente, caso o arquivo exista\n",
        "    if os.path.exists(TOKEN_PICKLE_FILE):\n",
        "        with open(TOKEN_PICKLE_FILE, 'rb') as token:\n",
        "            creds = pickle.load(token)\n",
        "\n",
        "    # Se as credenciais são inválidas, permite ao usuário se autenticar\n",
        "    if not creds or not creds.valid:\n",
        "        if creds and creds.expired and creds.refresh_token:\n",
        "            creds.refresh(Request())\n",
        "        else:\n",
        "            # O Flow permite a conexão via OAuth2.0 para aplicações Desktop\n",
        "            flow = InstalledAppFlow.from_client_secrets_file(\n",
        "                CREDENTIALS_FILE, SCOPES)\n",
        "            creds = flow.run_local_server(port=PORT, open_browser=False)  # Use headless mode)\n",
        "\n",
        "        # Save the credentials for the next run\n",
        "        with open(TOKEN_PICKLE_FILE, 'wb') as token:\n",
        "            pickle.dump(creds, token)\n",
        "\n",
        "    return creds"
      ],
      "metadata": {
        "id": "TPOPe5WOy-OM"
      },
      "execution_count": null,
      "outputs": []
    },
    {
      "cell_type": "code",
      "source": [
        "def get_inbox_emails():\n",
        "    \"\"\"Fetch emails from Gmail inbox.\"\"\"\n",
        "    creds = authenticate()\n",
        "    service = build('gmail', 'v1', credentials=creds)\n",
        "\n",
        "    # Call the Gmail API to fetch emails\n",
        "    results = service.users().messages().list(userId='me', labelIds=['INBOX']).execute()\n",
        "    messages = results.get('messages', [])\n",
        "\n",
        "    if not messages:\n",
        "        print('Nenhuma mensagem encontrada! :)')\n",
        "    else:\n",
        "        print(f'''Você tem: {len(messages)} mensagens!''')\n",
        "        print('Messages:')\n",
        "        for message in messages:\n",
        "            msg = service.users().messages().get(userId='me', id=message['id']).execute()\n",
        "            # Decode the message payload\n",
        "            payload = msg['payload']\n",
        "            headers = payload['headers']\n",
        "            subject = [header['value'] for header in headers if header['name'] == 'Subject'][0]\n",
        "            snippet = msg['snippet']\n",
        "            print(f'Subject: {subject}, Snippet: {snippet}')"
      ],
      "metadata": {
        "id": "qmRmmmxvL84b"
      },
      "execution_count": null,
      "outputs": []
    },
    {
      "cell_type": "markdown",
      "source": [
        "# Testes"
      ],
      "metadata": {
        "id": "8h2kp4vykzCx"
      }
    },
    {
      "cell_type": "markdown",
      "source": [
        "Verifica se as configurações foram realizadas com sucesso para Generative AI"
      ],
      "metadata": {
        "id": "OTOmd9wlk5jP"
      }
    },
    {
      "cell_type": "code",
      "source": [
        "model = genai.GenerativeModel('gemini-pro')\n",
        "response = model.generate_content(\"Give me python code to sort a list\")\n",
        "print(response.text)"
      ],
      "metadata": {
        "id": "oeUpojz9k1ru"
      },
      "execution_count": null,
      "outputs": []
    },
    {
      "cell_type": "markdown",
      "source": [
        "Verifica as configurações de autorização com o Google"
      ],
      "metadata": {
        "id": "j6CoioOP-N_W"
      }
    },
    {
      "cell_type": "code",
      "source": [
        "credentials=authenticate()"
      ],
      "metadata": {
        "id": "ONEqyOKe9Vjc"
      },
      "execution_count": null,
      "outputs": []
    },
    {
      "cell_type": "markdown",
      "source": [
        "Verifica se a comunicação com a API do Gmail está funcional. O script abaixo irá imprimir todos os marcadores (labels) do Gmail do usuário."
      ],
      "metadata": {
        "id": "dKRQvOMD-YxS"
      }
    },
    {
      "cell_type": "code",
      "source": [
        "try:\n",
        "    # Chama a API do Gmail\n",
        "    service = build(\"gmail\", \"v1\", credentials=authenticate())\n",
        "    results = service.users().labels().list(userId=\"me\").execute()\n",
        "    labels = results.get(\"labels\", [])\n",
        "\n",
        "    if not labels:\n",
        "      print(\"Rótulos não encontrados\")\n",
        "    print(\"Labels:\")\n",
        "    for label in labels:\n",
        "      print(label[\"name\"])\n",
        "\n",
        "except HttpError as error:\n",
        "  print(f\"An error occurred: {error}\")"
      ],
      "metadata": {
        "id": "Pp_IXm85vlNj"
      },
      "execution_count": null,
      "outputs": []
    },
    {
      "cell_type": "markdown",
      "source": [
        "# Organizador de E-mails"
      ],
      "metadata": {
        "id": "CjBatUBJPv_M"
      }
    },
    {
      "cell_type": "code",
      "source": [
        "get_inbox_emails()"
      ],
      "metadata": {
        "id": "XTLNZdozP0eU"
      },
      "execution_count": null,
      "outputs": []
    }
  ]
}