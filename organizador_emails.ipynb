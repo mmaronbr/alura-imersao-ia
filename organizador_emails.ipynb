{
  "nbformat": 4,
  "nbformat_minor": 0,
  "metadata": {
    "colab": {
      "provenance": [],
      "authorship_tag": "ABX9TyO3pA+RUD/hNxXwvzCZRG38",
      "include_colab_link": true
    },
    "kernelspec": {
      "name": "python3",
      "display_name": "Python 3"
    },
    "language_info": {
      "name": "python"
    }
  },
  "cells": [
    {
      "cell_type": "markdown",
      "metadata": {
        "id": "view-in-github",
        "colab_type": "text"
      },
      "source": [
        "<a href=\"https://colab.research.google.com/github/mmaronbr/alura-imersao-ia/blob/main/organizador_emails.ipynb\" target=\"_parent\"><img src=\"https://colab.research.google.com/assets/colab-badge.svg\" alt=\"Open In Colab\"/></a>"
      ]
    },
    {
      "cell_type": "markdown",
      "source": [
        "# Dependências da Aplicação"
      ],
      "metadata": {
        "id": "arvR_2ZROLin"
      }
    },
    {
      "cell_type": "markdown",
      "source": [
        "Dependências da Generative AI"
      ],
      "metadata": {
        "id": "KrONpyxRiBUC"
      }
    },
    {
      "cell_type": "code",
      "execution_count": 1,
      "metadata": {
        "id": "cDJlBqRzNa5a"
      },
      "outputs": [],
      "source": [
        "!pip install -U -q google.generativeai"
      ]
    },
    {
      "cell_type": "markdown",
      "source": [
        "Dependências do Gmail"
      ],
      "metadata": {
        "id": "5H7Yk-VWiORI"
      }
    },
    {
      "cell_type": "code",
      "source": [
        "!pip install -U -q google-api-python-client google-auth-httplib2 google-auth-oauthlib"
      ],
      "metadata": {
        "id": "5Z__W3u8iQVf",
        "outputId": "639941ea-39d3-43f4-f43b-c8575ccfbb35",
        "colab": {
          "base_uri": "https://localhost:8080/"
        }
      },
      "execution_count": 2,
      "outputs": [
        {
          "output_type": "stream",
          "name": "stdout",
          "text": [
            "\u001b[2K     \u001b[90m━━━━━━━━━━━━━━━━━━━━━━━━━━━━━━━━━━━━━━━━\u001b[0m \u001b[32m11.6/11.6 MB\u001b[0m \u001b[31m24.7 MB/s\u001b[0m eta \u001b[36m0:00:00\u001b[0m\n",
            "\u001b[?25h"
          ]
        }
      ]
    },
    {
      "cell_type": "markdown",
      "source": [
        "# Importação das Bibliotecas"
      ],
      "metadata": {
        "id": "XoTIW3DWibn7"
      }
    },
    {
      "cell_type": "markdown",
      "source": [
        "Bibliotecas utilizadas para acesso à API da Generative AI"
      ],
      "metadata": {
        "id": "7PGcbaX3iwkG"
      }
    },
    {
      "cell_type": "code",
      "source": [
        "import google.generativeai as genai"
      ],
      "metadata": {
        "id": "T0cytgSei2Ip"
      },
      "execution_count": 3,
      "outputs": []
    },
    {
      "cell_type": "markdown",
      "source": [
        "Bibliotecas utilizadas para acesso ao Gmail"
      ],
      "metadata": {
        "id": "SK-QPY5diqXF"
      }
    },
    {
      "cell_type": "code",
      "source": [
        "import os.path\n",
        "\n",
        "from google.auth.transport.requests import Request\n",
        "from google.oauth2.credentials import Credentials\n",
        "from google_auth_oauthlib.flow import InstalledAppFlow\n",
        "from googleapiclient.discovery import build\n",
        "from googleapiclient.errors import HttpError\n",
        "\n",
        "from google.colab import userdata"
      ],
      "metadata": {
        "id": "Ta6wifV1iff6"
      },
      "execution_count": 7,
      "outputs": []
    },
    {
      "cell_type": "markdown",
      "source": [
        "# Configurações"
      ],
      "metadata": {
        "id": "uKx_dzIwjQh5"
      }
    },
    {
      "cell_type": "markdown",
      "source": [
        "Definição da Chave da API da Generative AI\n",
        "\n",
        "**IMPORTANTE!** Cadastre a secret `GOOGLE_API_KEY` na Seção de Secrets do Colab."
      ],
      "metadata": {
        "id": "5XBdsaFej-uS"
      }
    },
    {
      "cell_type": "code",
      "source": [
        "GOOGLE_API_KEY=userdata.get('GOOGLE_API_KEY')\n",
        "genai.configure(api_key=GOOGLE_API_KEY)"
      ],
      "metadata": {
        "id": "y6ud9uG7jT-E"
      },
      "execution_count": 5,
      "outputs": []
    },
    {
      "cell_type": "markdown",
      "source": [
        "Configurações para acesso ao Gmail"
      ],
      "metadata": {
        "id": "rqigbgLSmWvJ"
      }
    },
    {
      "cell_type": "code",
      "source": [
        "SCOPES = [\"https://www.googleapis.com/auth/gmail.readonly\"]\n",
        "\n",
        "CLIENT_ID = userdata.get('CLIENT_ID')\n",
        "CLIENT_SECRET = userdata.get('CLIENT_SECRET')\n",
        "PROJECT_ID = userdata.get('PROJECT_ID')\n",
        "\n",
        "JSON_TMP = f'''{{\n",
        "    \"installed\": {{\n",
        "      \"client_id\": \"{CLIENT_ID}\",\n",
        "      \"project_id\": \"{PROJECT_ID}\",\n",
        "      \"auth_uri\": \"https://accounts.google.com/o/oauth2/auth\",\n",
        "      \"token_uri\": \"https://oauth2.googleapis.com/token\",\n",
        "      \"auth_provider_x509_cert_url\": \"https://www.googleapis.com/oauth2/v1/certs\",\n",
        "      \"client_secret\": \"{CLIENT_SECRET}\",\n",
        "      \"redirect_uris\": [\"http://localhost\"]\n",
        "    }}\n",
        "  }}'''\n",
        "\n",
        "# Cria o arquivo de template client_secret.json\n",
        "with open(\"client_secret.json\", \"w\") as client_secret:\n",
        "  client_secret.write(JSON_TMP)\n"
      ],
      "metadata": {
        "id": "6yVt7CGHmdnm"
      },
      "execution_count": 21,
      "outputs": []
    },
    {
      "cell_type": "markdown",
      "source": [
        "# Sandbox"
      ],
      "metadata": {
        "id": "8h2kp4vykzCx"
      }
    },
    {
      "cell_type": "markdown",
      "source": [
        "Verifica se as configurações foram realizadas com sucesso para Generative AI"
      ],
      "metadata": {
        "id": "OTOmd9wlk5jP"
      }
    },
    {
      "cell_type": "code",
      "source": [
        "model = genai.GenerativeModel('gemini-pro')\n",
        "response = model.generate_content(\"Give me python code to sort a list\")\n",
        "print(response.text)"
      ],
      "metadata": {
        "id": "oeUpojz9k1ru",
        "outputId": "50eee721-3c62-4d99-d838-2c180c7a95e4",
        "colab": {
          "base_uri": "https://localhost:8080/",
          "height": 303
        }
      },
      "execution_count": 6,
      "outputs": [
        {
          "output_type": "stream",
          "name": "stdout",
          "text": [
            "```python\n",
            "# Example list\n",
            "list1 = [5, 3, 1, 2, 4]\n",
            "\n",
            "# Sort the list in ascending order\n",
            "list1.sort()\n",
            "\n",
            "# Print the sorted list\n",
            "print(list1)  # Output: [1, 2, 3, 4, 5]\n",
            "\n",
            "# Sort the list in descending order using the reverse parameter\n",
            "list1.sort(reverse=True)\n",
            "\n",
            "# Print the sorted list\n",
            "print(list1)  # Output: [5, 4, 3, 2, 1]\n",
            "```\n"
          ]
        }
      ]
    },
    {
      "cell_type": "code",
      "source": [
        "import pathlib\n",
        "pathlib.Path('client_secret.json').write_text(userdata.get('CLIENT_SECRET'))"
      ],
      "metadata": {
        "id": "BL5Q1Jeltwn1",
        "outputId": "da5797ee-572e-40df-a45a-2a698309109c",
        "colab": {
          "base_uri": "https://localhost:8080/"
        }
      },
      "execution_count": 13,
      "outputs": [
        {
          "output_type": "execute_result",
          "data": {
            "text/plain": [
              "35"
            ]
          },
          "metadata": {},
          "execution_count": 13
        }
      ]
    },
    {
      "cell_type": "code",
      "source": [
        "!gcloud auth application-default login \\\n",
        "  --no-browser --client-id-file /content/client_secret.json \\\n",
        "  --scopes https://www.googleapis.com/auth/cloud-platform,https://www.googleapis.com/auth/generative-language.tuning,https://www.googleapis.com/auth/generative-language.retriever\n"
      ],
      "metadata": {
        "id": "Pp_IXm85vlNj",
        "outputId": "8d7d424d-f6a2-4643-ecd9-1e3a72153077",
        "colab": {
          "base_uri": "https://localhost:8080/"
        }
      },
      "execution_count": 17,
      "outputs": [
        {
          "output_type": "stream",
          "name": "stdout",
          "text": [
            "\u001b[1;31mERROR:\u001b[0m gcloud crashed (JSONDecodeError): Expecting property name enclosed in double quotes: line 1 column 2 (char 1)\n",
            "\n",
            "If you would like to report this issue, please run the following command:\n",
            "  gcloud feedback\n",
            "\n",
            "To check gcloud for common problems, please run the following command:\n",
            "  gcloud info --run-diagnostics\n"
          ]
        }
      ]
    }
  ]
}