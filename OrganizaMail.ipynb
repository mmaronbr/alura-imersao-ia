{
  "nbformat": 4,
  "nbformat_minor": 0,
  "metadata": {
    "colab": {
      "provenance": [],
      "authorship_tag": "ABX9TyPAas8GqA5eaCisxx+i7QhR",
      "include_colab_link": true
    },
    "kernelspec": {
      "name": "python3",
      "display_name": "Python 3"
    },
    "language_info": {
      "name": "python"
    }
  },
  "cells": [
    {
      "cell_type": "markdown",
      "metadata": {
        "id": "view-in-github",
        "colab_type": "text"
      },
      "source": [
        "<a href=\"https://colab.research.google.com/github/mmaronbr/alura-imersao-ia/blob/main/OrganizaMail.ipynb\" target=\"_parent\"><img src=\"https://colab.research.google.com/assets/colab-badge.svg\" alt=\"Open In Colab\"/></a>"
      ]
    },
    {
      "cell_type": "markdown",
      "source": [
        "# Dependências da Aplicação"
      ],
      "metadata": {
        "id": "arvR_2ZROLin"
      }
    },
    {
      "cell_type": "markdown",
      "source": [
        "Dependências da Generative AI"
      ],
      "metadata": {
        "id": "KrONpyxRiBUC"
      }
    },
    {
      "cell_type": "code",
      "execution_count": null,
      "metadata": {
        "id": "cDJlBqRzNa5a"
      },
      "outputs": [],
      "source": [
        "!pip install -U -q google.generativeai"
      ]
    },
    {
      "cell_type": "markdown",
      "source": [
        "Dependências do Gmail"
      ],
      "metadata": {
        "id": "5H7Yk-VWiORI"
      }
    },
    {
      "cell_type": "code",
      "source": [
        "!pip install -U -q google-api-python-client google-auth-httplib2 google-auth-oauthlib\n",
        "!pip install -U -q pyngrok"
      ],
      "metadata": {
        "id": "5Z__W3u8iQVf"
      },
      "execution_count": null,
      "outputs": []
    },
    {
      "cell_type": "markdown",
      "source": [
        "# Importação das Bibliotecas"
      ],
      "metadata": {
        "id": "XoTIW3DWibn7"
      }
    },
    {
      "cell_type": "markdown",
      "source": [
        "Bibliotecas de uso comum"
      ],
      "metadata": {
        "id": "cX-6KeYWEFTy"
      }
    },
    {
      "cell_type": "code",
      "source": [
        "from google.colab import userdata"
      ],
      "metadata": {
        "id": "EIcmBedKEFmI"
      },
      "execution_count": null,
      "outputs": []
    },
    {
      "cell_type": "markdown",
      "source": [
        "Bibliotecas utilizadas para acesso à API da Generative AI"
      ],
      "metadata": {
        "id": "7PGcbaX3iwkG"
      }
    },
    {
      "cell_type": "code",
      "source": [
        "import google.generativeai as genai\n",
        "import json\n",
        "import random\n",
        "import time\n",
        "\n",
        "from google.api_core.exceptions import TooManyRequests\n"
      ],
      "metadata": {
        "id": "T0cytgSei2Ip"
      },
      "execution_count": null,
      "outputs": []
    },
    {
      "cell_type": "markdown",
      "source": [
        "Bibliotecas utilizadas para acesso ao Gmail"
      ],
      "metadata": {
        "id": "SK-QPY5diqXF"
      }
    },
    {
      "cell_type": "code",
      "source": [
        "import os.path\n",
        "import pickle\n",
        "import requests\n",
        "\n",
        "from google.auth.transport.requests import Request\n",
        "from google.oauth2.credentials import Credentials\n",
        "from google_auth_oauthlib.flow import InstalledAppFlow\n",
        "from googleapiclient.discovery import build\n",
        "from googleapiclient.errors import HttpError\n",
        "\n",
        "from pyngrok import ngrok\n",
        "from base64 import urlsafe_b64decode"
      ],
      "metadata": {
        "id": "Ta6wifV1iff6"
      },
      "execution_count": null,
      "outputs": []
    },
    {
      "cell_type": "markdown",
      "source": [
        "# Configurações"
      ],
      "metadata": {
        "id": "uKx_dzIwjQh5"
      }
    },
    {
      "cell_type": "markdown",
      "source": [
        "## Generative AI"
      ],
      "metadata": {
        "id": "_mwiu80iwc_0"
      }
    },
    {
      "cell_type": "markdown",
      "source": [
        "Definição da Chave da API da Generative AI\n",
        "\n",
        "**IMPORTANTE!** Cadastre a secret `GOOGLE_API_KEY` na Seção de Secrets do Colab."
      ],
      "metadata": {
        "id": "5XBdsaFej-uS"
      }
    },
    {
      "cell_type": "code",
      "source": [
        "GOOGLE_API_KEY=userdata.get('GOOGLE_API_KEY')\n",
        "genai.configure(api_key=GOOGLE_API_KEY)"
      ],
      "metadata": {
        "id": "y6ud9uG7jT-E"
      },
      "execution_count": null,
      "outputs": []
    },
    {
      "cell_type": "markdown",
      "source": [
        "## Gmail"
      ],
      "metadata": {
        "id": "N0HLU1IewiHr"
      }
    },
    {
      "cell_type": "markdown",
      "source": [
        "Configurações para acesso ao Gmail\n",
        "\n",
        "**IMPORTANTE!** Cadastre as secrets: `CLIENT_ID`, `CLIENT_SECRET`,  `PROJECT_ID` e `NGROK_AUTHTOKEN` na Seção de Secrets do Colab.\n",
        "\n",
        "Para obter o `CLIENT_ID`, `CLIENT_SECRET` e `PROJECT_ID` siga as orientações em: [Google Developers - Guia de Criação de Cliente OAuth](https://developers.google.com/workspace/guides/create-credentials?hl=pt-br#oauth-client-id)\n",
        "\n",
        "Para o `NGROK_AUTHTOKEN`, registre-se em: [https://ngrok.com/](https://ngrok.com/)\n",
        "\n"
      ],
      "metadata": {
        "id": "rqigbgLSmWvJ"
      }
    },
    {
      "cell_type": "markdown",
      "source": [
        "Definição das constantes de autenticação/autorização"
      ],
      "metadata": {
        "id": "-5S62uDLyVMv"
      }
    },
    {
      "cell_type": "code",
      "source": [
        "SCOPES = ['https://www.googleapis.com/auth/gmail.readonly','https://www.googleapis.com/auth/gmail.modify']\n",
        "\n",
        "CLIENT_ID = userdata.get('CLIENT_ID')\n",
        "CLIENT_SECRET = userdata.get('CLIENT_SECRET')\n",
        "PROJECT_ID = userdata.get('PROJECT_ID')\n",
        "NGROK_AUTHTOKEN = userdata.get('NGROK_AUTHTOKEN')\n",
        "\n",
        "# Arquivo que armazena as configurações de acesso via OAuth2.0\n",
        "CREDENTIALS_FILE = 'credentials.json'\n",
        "# Arquivo que armazenará o token de acesso aos serviços da Google\n",
        "TOKEN_PICKLE_FILE = 'token.pickle'\n",
        "# Arquivo que armazena as configurações ngrok\n",
        "NGROK_FILE = 'ngrok.yml'\n",
        "\n",
        "# Configurações do Servidor Flow\n",
        "PORT = 9999"
      ],
      "metadata": {
        "id": "6yVt7CGHmdnm"
      },
      "execution_count": null,
      "outputs": []
    },
    {
      "cell_type": "markdown",
      "source": [
        "Criação do arquivo de configuração do ngrok"
      ],
      "metadata": {
        "id": "qoD-HVvEJP1I"
      }
    },
    {
      "cell_type": "code",
      "source": [
        "NGROK_TMP =f'''authtoken: {NGROK_AUTHTOKEN}\n",
        "version: 2\n",
        "\n",
        "tunnels:\n",
        "  oauth_tunnel:\n",
        "    proto: http\n",
        "    addr: {PORT}\n",
        "'''\n",
        "# Cria o arquivo de Configurção do ngrok\n",
        "with open(NGROK_FILE, \"w\") as n_file:\n",
        "  n_file.write(NGROK_TMP)"
      ],
      "metadata": {
        "id": "XC0C06b8JVG7"
      },
      "execution_count": null,
      "outputs": []
    },
    {
      "cell_type": "markdown",
      "source": [
        "Inicia o serviço ngrok em background\n",
        "\n",
        "Para consultar os endpoints ativos, consulte: [Dashboard do Ngrok](https://dashboard.ngrok.com/cloud-edge/endpoints)"
      ],
      "metadata": {
        "id": "JFGHi80i0-zj"
      }
    },
    {
      "cell_type": "code",
      "source": [
        "#!nohup ngrok --config ngrok.yml start oauth_tunnel > nohup.out 2>&1 &\n",
        "!nohup ngrok --config ngrok.yml > nohup.out 2>&1 &"
      ],
      "metadata": {
        "id": "6LEcXZI-0_WL"
      },
      "execution_count": null,
      "outputs": []
    },
    {
      "cell_type": "markdown",
      "source": [
        "Obtém o endereço público para comunicação com o Google"
      ],
      "metadata": {
        "id": "utQwaa0ryIUq"
      }
    },
    {
      "cell_type": "code",
      "source": [
        "ngrok.set_auth_token(NGROK_AUTHTOKEN)\n",
        "\n",
        "public_url = ngrok.connect(PORT)\n",
        "print(f'URL Público: {public_url.public_url}')\n",
        "print('\\nATENÇÃO! Cadastre o novo domínio do ngrok como um domínio válido para sua aplicação.\\n')\n",
        "print('Acesse: https://console.cloud.google.com/apis/credentials/consent')\n",
        "\n",
        "configured = \"não\"\n",
        "\n",
        "while configured.lower() != \"sim\":\n",
        "  configured = input(\"Adicionou o endereço no ngrok como domínio autorizado?  \")"
      ],
      "metadata": {
        "id": "ttsBn9l41N_a"
      },
      "execution_count": null,
      "outputs": []
    },
    {
      "cell_type": "code",
      "source": [
        "JSON_TMP = f'''{{\n",
        "    \"installed\": {{\n",
        "      \"client_id\": \"{CLIENT_ID}\",\n",
        "      \"project_id\": \"{PROJECT_ID}\",\n",
        "      \"auth_uri\": \"https://accounts.google.com/o/oauth2/auth\",\n",
        "      \"token_uri\": \"https://oauth2.googleapis.com/token\",\n",
        "      \"auth_provider_x509_cert_url\": \"https://www.googleapis.com/oauth2/v1/certs\",\n",
        "      \"client_secret\": \"{CLIENT_SECRET}\",\n",
        "      \"redirect_uris\": [\"{public_url.public_url}\"]\n",
        "    }}\n",
        "  }}'''\n",
        "\n",
        "\n",
        "# Cria o arquivo de Credenciais do Google\n",
        "with open(CREDENTIALS_FILE, \"w\") as cred_file:\n",
        "  cred_file.write(JSON_TMP)\n"
      ],
      "metadata": {
        "id": "01tHTxPhxiaF"
      },
      "execution_count": null,
      "outputs": []
    },
    {
      "cell_type": "markdown",
      "source": [
        "# Definição das Funções"
      ],
      "metadata": {
        "id": "KAqKuOhAyHYt"
      }
    },
    {
      "cell_type": "code",
      "source": [
        "def authenticate():\n",
        "  creds = None\n",
        "\n",
        "  # Recupera o token existente, caso o arquivo exista\n",
        "  if os.path.exists(TOKEN_PICKLE_FILE):\n",
        "    with open(TOKEN_PICKLE_FILE, 'rb') as token:\n",
        "      creds = pickle.load(token)\n",
        "\n",
        "  # Se as credenciais são inválidas, permite ao usuário se autenticar\n",
        "  if not creds or not creds.valid:\n",
        "    if creds and creds.expired and creds.refresh_token:\n",
        "      creds.refresh(Request())\n",
        "    else:\n",
        "      # O Flow permite a conexão via OAuth2.0 para aplicações Desktop\n",
        "      flow = InstalledAppFlow.from_client_secrets_file(CREDENTIALS_FILE, SCOPES)\n",
        "      creds = flow.run_local_server(port=PORT, open_browser=False)\n",
        "\n",
        "    # Save the credentials for the next run\n",
        "    with open(TOKEN_PICKLE_FILE, 'wb') as token:\n",
        "      pickle.dump(creds, token)\n",
        "\n",
        "  return creds"
      ],
      "metadata": {
        "id": "TPOPe5WOy-OM"
      },
      "execution_count": null,
      "outputs": []
    },
    {
      "cell_type": "code",
      "source": [
        "def list_inbox_messages():\n",
        "  \"\"\"Fetch emails from Gmail inbox.\"\"\"\n",
        "  creds = authenticate()\n",
        "  service = build('gmail', 'v1', credentials=creds)\n",
        "\n",
        "  # Call the Gmail API to fetch emails\n",
        "  results = service.users().messages().list(userId='me', labelIds=['INBOX']).execute()\n",
        "  messages = results.get('messages', [])\n",
        "  formatted_messages = []\n",
        "\n",
        "  for message in messages[:10]:\n",
        "    formatted_messages.append({'id':message['id'], 'content':get_message_content(message['id'])})\n",
        "\n",
        "  return formatted_messages"
      ],
      "metadata": {
        "id": "qmRmmmxvL84b"
      },
      "execution_count": null,
      "outputs": []
    },
    {
      "cell_type": "code",
      "source": [
        "def get_message_content(message_id):\n",
        "  \"\"\"\n",
        "  Retrieve sender, subject, snippet, and body content of a Gmail message.\n",
        "\n",
        "  Args:\n",
        "  message_id (str): The ID of the Gmail message.\n",
        "  credentials: Google OAuth2 credentials object.\n",
        "\n",
        "  Returns:\n",
        "  dict: Dictionary containing sender, subject, snippet, and body content.\n",
        "  \"\"\"\n",
        "  try:\n",
        "    creds = authenticate()\n",
        "    service = build('gmail', 'v1', credentials=creds)\n",
        "    message = service.users().messages().get(userId='me', id=message_id, format='full').execute()\n",
        "\n",
        "    # Extract sender\n",
        "    sender = next(header['value'] for header in message['payload']['headers'] if header['name'] == 'From')\n",
        "\n",
        "    # Extract subject\n",
        "    subject = next(header['value'] for header in message['payload']['headers'] if header['name'] == 'Subject')\n",
        "\n",
        "    # Extract snippet\n",
        "    snippet = message['snippet']\n",
        "\n",
        "    # Extract body content\n",
        "    body_parts = []\n",
        "\n",
        "    if 'data' in message['payload']['body']:\n",
        "      body_data = message['payload']['body']['data']\n",
        "      body_decoded = urlsafe_b64decode(body_data).decode('utf-8')\n",
        "      body_parts.append(body_decoded)\n",
        "\n",
        "    if 'parts' in message['payload']:\n",
        "      # If the message contains parts, iterate through them to find the body\n",
        "      for part in message['payload']['parts']:\n",
        "        if part['mimeType'] == 'text/plain' or part['mimeType'] == 'text/html':\n",
        "          body_data = part['body']['data']\n",
        "          body_decoded = urlsafe_b64decode(body_data).decode('utf-8')\n",
        "          body_parts.append(body_decoded)\n",
        "        elif 'data' in part['body']:\n",
        "          # If the part contains binary data (e.g., image), convert it to base64 and add to body parts\n",
        "          part_data = part['body']['data']\n",
        "          part_decoded = urlsafe_b64decode(part_data).decode('utf-8')\n",
        "          body_parts.append(part_decoded)\n",
        "\n",
        "    # Concatenate all body parts into a single string\n",
        "    body = ''.join(body_parts)\n",
        "\n",
        "    # Concatenate all attributes into a single string\n",
        "    message_attributes = f'{sender}\\n{subject}\\n{snippet}\\n{body}\\n\\n'\n",
        "    return message_attributes\n",
        "\n",
        "  except Exception as e:\n",
        "    print(\"An error occurred:\", e)\n",
        "    return None"
      ],
      "metadata": {
        "id": "bpCTVzfhxV_Q"
      },
      "execution_count": null,
      "outputs": []
    },
    {
      "cell_type": "code",
      "source": [
        "def label_message(message_id, label_id):\n",
        "  \"\"\"Tag a label to a message in Gmail.\"\"\"\n",
        "  creds = authenticate()\n",
        "  service = build('gmail', 'v1', credentials=creds)\n",
        "\n",
        "  # Modify labels associated with the message\n",
        "  service.users().messages().modify(userId='me', id=message_id, body={'addLabelIds': [label_id]}).execute()\n",
        "  print(f'Marcador {label_id} adicionado a mensagem {message_id}.')"
      ],
      "metadata": {
        "id": "YK9r2i2oZq-A"
      },
      "execution_count": null,
      "outputs": []
    },
    {
      "cell_type": "code",
      "source": [
        "def list_labels():\n",
        "  \"\"\"List all labels in Gmail\"\"\"\n",
        "  creds = authenticate()\n",
        "  service = build('gmail', 'v1', credentials=creds)\n",
        "\n",
        "  service = build(\"gmail\", \"v1\", credentials=authenticate())\n",
        "  results = service.users().labels().list(userId=\"me\").execute()\n",
        "  labels = results.get(\"labels\", [])\n",
        "\n",
        "  return labels"
      ],
      "metadata": {
        "id": "qN9UdOC7jlxv"
      },
      "execution_count": null,
      "outputs": []
    },
    {
      "cell_type": "code",
      "source": [
        "def create_label(label_name):\n",
        "  \"\"\"Create a new label in Gmail and return its ID.\"\"\"\n",
        "  creds = authenticate()\n",
        "  service = build('gmail', 'v1', credentials=creds)\n",
        "\n",
        "  # Create label request body\n",
        "  label_body = {'name': label_name}\n",
        "\n",
        "  # Call the Gmail API to create the label\n",
        "  created_label = service.users().labels().create(userId='me', body=label_body).execute()\n",
        "\n",
        "  label_id = created_label['id']\n",
        "  print(f'Marcador {label_name} criado com o ID {label_id}.')\n",
        "\n",
        "  return label_id"
      ],
      "metadata": {
        "id": "yyepwFjPhGGa"
      },
      "execution_count": null,
      "outputs": []
    },
    {
      "cell_type": "code",
      "source": [
        "def set_label_ids(categories):\n",
        "    \"\"\"Set the attribute label_id for each category based on label IDs obtained from Gmail.\"\"\"\n",
        "    labels = list_labels()\n",
        "    for category in categories:\n",
        "      for label in labels:\n",
        "        if category['name'] == label['name']:\n",
        "          category['label_id'] = label['id']\n",
        "      if 'label_id' not in category:\n",
        "        category['label_id'] = create_label(category['name'])\n",
        "    return categories"
      ],
      "metadata": {
        "id": "GjB87RDbbw6V"
      },
      "execution_count": null,
      "outputs": []
    },
    {
      "cell_type": "code",
      "source": [
        "def get_random_number():\n",
        "  \"\"\"\n",
        "  Generate a random number between 0.95 and 0.99.\n",
        "\n",
        "  Returns:\n",
        "  float: The random number.\n",
        "  \"\"\"\n",
        "  return random.uniform(0.95, 0.99)"
      ],
      "metadata": {
        "id": "WmWr_ZJpA--f"
      },
      "execution_count": null,
      "outputs": []
    },
    {
      "cell_type": "markdown",
      "source": [
        "# Testes"
      ],
      "metadata": {
        "id": "8h2kp4vykzCx"
      }
    },
    {
      "cell_type": "markdown",
      "source": [
        "Verifica se as configurações foram realizadas com sucesso para Generative AI"
      ],
      "metadata": {
        "id": "OTOmd9wlk5jP"
      }
    },
    {
      "cell_type": "code",
      "source": [
        "model = genai.GenerativeModel('gemini-pro')\n",
        "response = model.generate_content(\"Give me python code to sort a list\")\n",
        "print(response.text)"
      ],
      "metadata": {
        "id": "oeUpojz9k1ru"
      },
      "execution_count": null,
      "outputs": []
    },
    {
      "cell_type": "markdown",
      "source": [
        "Verifica as configurações de autorização com o Google"
      ],
      "metadata": {
        "id": "j6CoioOP-N_W"
      }
    },
    {
      "cell_type": "code",
      "source": [
        "authenticate()"
      ],
      "metadata": {
        "id": "ONEqyOKe9Vjc"
      },
      "execution_count": null,
      "outputs": []
    },
    {
      "cell_type": "markdown",
      "source": [
        "Verifica se a comunicação com a API do Gmail está funcional\n",
        "\n",
        "Imprime os primeiros 5 marcadores (labels) do Gmail do usuário\n"
      ],
      "metadata": {
        "id": "dKRQvOMD-YxS"
      }
    },
    {
      "cell_type": "code",
      "source": [
        "try:\n",
        "    # Chama a API do Gmail\n",
        "    service = build(\"gmail\", \"v1\", credentials=authenticate())\n",
        "    results = service.users().labels().list(userId=\"me\").execute()\n",
        "    labels = results.get(\"labels\", [])\n",
        "\n",
        "    if not labels:\n",
        "      print(\"Marcadores não encontrados\")\n",
        "    print(\"Labels:\")\n",
        "    for label in labels[:5]:\n",
        "      print(f\"[{label['id']}] {label['name']}\")\n",
        "\n",
        "except HttpError as error:\n",
        "  print(f\"An error occurred: {error}\")"
      ],
      "metadata": {
        "id": "Pp_IXm85vlNj"
      },
      "execution_count": null,
      "outputs": []
    },
    {
      "cell_type": "markdown",
      "source": [
        "# OrganizaMail 💌"
      ],
      "metadata": {
        "id": "CjBatUBJPv_M"
      }
    },
    {
      "cell_type": "markdown",
      "source": [
        "Definição das categorias, tipo de conteúdo esperado e textos de exemplo"
      ],
      "metadata": {
        "id": "UZ4rV2e1U7kH"
      }
    },
    {
      "cell_type": "code",
      "source": [
        "categories = [\n",
        "    {\n",
        "        'name': '[Follow-Up]',\n",
        "        'description': 'Mensagens que demandam meu acompanhamento',\n",
        "        'examples': ['informações importantes', 'aqui estão algumas atualizações', 'peço sua atenção', 'problemas de estabilidade']\n",
        "    },\n",
        "    {\n",
        "        'name': '[Awaiting Response]',\n",
        "        'description': 'Fios de mensagens que eu estou aguardando respostas.',\n",
        "        'examples': ['Aguardo seu retorno']\n",
        "    },\n",
        "    {\n",
        "        'name': '[To Read]',\n",
        "        'description': 'Mensagens que podem ser lidas posteriormente.',\n",
        "        'examples': ['Notícias', 'Novidades']\n",
        "    },\n",
        "]"
      ],
      "metadata": {
        "id": "h3_rxN9AVMOD"
      },
      "execution_count": null,
      "outputs": []
    },
    {
      "cell_type": "markdown",
      "source": [
        "Obtém os ID dos marcadores e associa com as categorias. Caso não existam, cria um novo marcador no Gmail"
      ],
      "metadata": {
        "id": "SE-kh98fgYdg"
      }
    },
    {
      "cell_type": "code",
      "source": [
        "categories = set_label_ids(categories)"
      ],
      "metadata": {
        "id": "WzvWFYqzgtIP"
      },
      "execution_count": null,
      "outputs": []
    },
    {
      "cell_type": "markdown",
      "source": [
        "Configurações iniciais do modelo generativo"
      ],
      "metadata": {
        "id": "enMDDwE71q6v"
      }
    },
    {
      "cell_type": "code",
      "source": [
        "# Set up the model\n",
        "generation_config = {\n",
        "  \"temperature\": 1,\n",
        "  \"top_p\": 0.95,\n",
        "  \"top_k\": 0,\n",
        "  \"max_output_tokens\": 8192,\n",
        "  \"response_mime_type\": \"application/json\",\n",
        "}\n",
        "\n",
        "safety_settings = [\n",
        "  {\n",
        "    \"category\": \"HARM_CATEGORY_HARASSMENT\",\n",
        "    \"threshold\": \"BLOCK_MEDIUM_AND_ABOVE\"\n",
        "  },\n",
        "  {\n",
        "    \"category\": \"HARM_CATEGORY_HATE_SPEECH\",\n",
        "    \"threshold\": \"BLOCK_MEDIUM_AND_ABOVE\"\n",
        "  },\n",
        "  {\n",
        "    \"category\": \"HARM_CATEGORY_SEXUALLY_EXPLICIT\",\n",
        "    \"threshold\": \"BLOCK_MEDIUM_AND_ABOVE\"\n",
        "  },\n",
        "  {\n",
        "    \"category\": \"HARM_CATEGORY_DANGEROUS_CONTENT\",\n",
        "    \"threshold\": \"BLOCK_MEDIUM_AND_ABOVE\"\n",
        "  },\n",
        "]\n",
        "\n",
        "system_instruction = \"Responda apenas no formato {'category':'<VALOR_DA_CATEGORIA>', 'probability':'<PROBABILIDADE>'}\"\n",
        "\n",
        "model = genai.GenerativeModel(model_name=\"gemini-1.5-pro-latest\",\n",
        "                              generation_config=generation_config,\n",
        "                              system_instruction=system_instruction,\n",
        "                              safety_settings=safety_settings)\n",
        "\n"
      ],
      "metadata": {
        "id": "lnXNj8eD1rJJ"
      },
      "execution_count": null,
      "outputs": []
    },
    {
      "cell_type": "markdown",
      "source": [
        "Preparação do Histórico de acordo com a definição das Categorias"
      ],
      "metadata": {
        "id": "5GyrjjXV5xcl"
      }
    },
    {
      "cell_type": "code",
      "source": [
        "num_categories = len(categories)\n",
        "intro_part = f'Tenho {num_categories} categorias de classificação de mensagens: '\n",
        "\n",
        "# Foi utilizado o label_id ao inves do name para facilitar o rotulo da msg\n",
        "for index, category in enumerate(categories):\n",
        "  intro_part += category['label_id']\n",
        "  if index < num_categories-1:\n",
        "    intro_part += ', '\n",
        "  else:\n",
        "    intro_part += '. Abaixo a descrição de cada uma delas:\\n'\n",
        "\n",
        "for category in categories:\n",
        "  intro_part += f\"{category['label_id']} - {category['description']}\\n\"\n",
        "\n",
        "intro_part += \"\\nIdentifique as próximas mensagens de acordo com os exemplos:\\n\\n\"\n",
        "\n",
        "for category in categories:\n",
        "  for example in category['examples']:\n",
        "    intro_part += f\"{example}\\n'{{'category':'{category['name']}', 'probability':{get_random_number()}}}\\n\\n===\"\n",
        "\n",
        "intro_part\n",
        "convo = model.start_chat()\n",
        "convo.send_message(intro_part)\n",
        "print(convo.last.text)"
      ],
      "metadata": {
        "id": "x3Rl1V7Y5kBh"
      },
      "execution_count": null,
      "outputs": []
    },
    {
      "cell_type": "markdown",
      "source": [
        "Categoriza as mensagens do Gmail"
      ],
      "metadata": {
        "id": "IzWCKWTCFXHz"
      }
    },
    {
      "cell_type": "code",
      "source": [
        "messages = list_inbox_messages()\n",
        "# Initialize the index of the last successful API call\n",
        "last_successful_index = 0\n",
        "\n",
        "for index, message in enumerate(messages[last_successful_index:], start=last_successful_index):\n",
        "  try:\n",
        "    convo.send_message(message['content'])\n",
        "    response = json.loads(convo.last.text)\n",
        "    label_message(message['id'], response['category'])\n",
        "    # Update the index of the last successful API call\n",
        "    last_successful_index = index\n",
        "  except TooManyRequests as e:\n",
        "    print(\"Limite de requisições excedido. Aguarde um momento...\")\n",
        "    time.sleep(20)\n",
        "  except Exception as e:\n",
        "    print(\"An error occurred:\", e)\n",
        "    break\n",
        "\n",
        "# TODO: Para efeitos de teste, o OrganizaMail não está arquivando as mensagens ainda."
      ],
      "metadata": {
        "id": "GlemX2Xh-YP_"
      },
      "execution_count": null,
      "outputs": []
    }
  ]
}